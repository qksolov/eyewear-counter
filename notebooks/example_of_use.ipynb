{
  "cells": [
    {
      "cell_type": "code",
      "execution_count": 32,
      "metadata": {
        "collapsed": true,
        "id": "OWoMbhE4BU9A"
      },
      "outputs": [],
      "source": [
        "!pip install -q eyewear-counter"
      ]
    },
    {
      "cell_type": "code",
      "execution_count": null,
      "metadata": {
        "id": "ZLAXOnCndvaK"
      },
      "outputs": [],
      "source": [
        "from eyewear_counter import EyewearCounter, YoloDetector, RetinaFaceDetector, EyewearClassifier, generate_report\n",
        "import pandas as pd\n",
        "import torch\n",
        "import seaborn as sns"
      ]
    },
    {
      "cell_type": "code",
      "execution_count": 22,
      "metadata": {
        "colab": {
          "base_uri": "https://localhost:8080/"
        },
        "id": "pv7rq-HSeBgA",
        "outputId": "2ac7399b-364d-44fe-df06-32f5e94b8351"
      },
      "outputs": [
        {
          "data": {
            "text/plain": [
              "device(type='cpu')"
            ]
          },
          "execution_count": 22,
          "metadata": {},
          "output_type": "execute_result"
        }
      ],
      "source": [
        "device = torch.device('cuda' if torch.cuda.is_available() else 'cpu')\n",
        "device"
      ]
    },
    {
      "cell_type": "code",
      "execution_count": 21,
      "metadata": {
        "colab": {
          "base_uri": "https://localhost:8080/",
          "height": 206
        },
        "id": "WG9gYQUAd2Ch",
        "outputId": "90d2788a-1d83-459f-ed8b-6618d3105575"
      },
      "outputs": [
        {
          "data": {
            "text/html": [
              "<div>\n",
              "<style scoped>\n",
              "    .dataframe tbody tr th:only-of-type {\n",
              "        vertical-align: middle;\n",
              "    }\n",
              "\n",
              "    .dataframe tbody tr th {\n",
              "        vertical-align: top;\n",
              "    }\n",
              "\n",
              "    .dataframe thead th {\n",
              "        text-align: right;\n",
              "    }\n",
              "</style>\n",
              "<table border=\"1\" class=\"dataframe\">\n",
              "  <thead>\n",
              "    <tr style=\"text-align: right;\">\n",
              "      <th></th>\n",
              "      <th>image_url</th>\n",
              "      <th>true_prediction</th>\n",
              "    </tr>\n",
              "  </thead>\n",
              "  <tbody>\n",
              "    <tr>\n",
              "      <th>0</th>\n",
              "      <td>https://postimg.cc/gallery/1Fjybjh</td>\n",
              "      <td>ссылка на галерею</td>\n",
              "    </tr>\n",
              "    <tr>\n",
              "      <th>1</th>\n",
              "      <td>https://i.postimg.cc/RhCG7dXx/img01.jpg</td>\n",
              "      <td>0_0_1</td>\n",
              "    </tr>\n",
              "    <tr>\n",
              "      <th>2</th>\n",
              "      <td>https://i.postimg.cc/tJrk26MZ/img02.jpg</td>\n",
              "      <td>0_2_0</td>\n",
              "    </tr>\n",
              "    <tr>\n",
              "      <th>3</th>\n",
              "      <td>https://i.postimg.cc/jd5ZC8Dz/img03.png</td>\n",
              "      <td>1_1_0</td>\n",
              "    </tr>\n",
              "    <tr>\n",
              "      <th>4</th>\n",
              "      <td>https://i.postimg.cc/c1TFxqLx/img04.jpg</td>\n",
              "      <td>0_0_1</td>\n",
              "    </tr>\n",
              "  </tbody>\n",
              "</table>\n",
              "</div>"
            ],
            "text/plain": [
              "                                 image_url    true_prediction\n",
              "0       https://postimg.cc/gallery/1Fjybjh  ссылка на галерею\n",
              "1  https://i.postimg.cc/RhCG7dXx/img01.jpg              0_0_1\n",
              "2  https://i.postimg.cc/tJrk26MZ/img02.jpg              0_2_0\n",
              "3  https://i.postimg.cc/jd5ZC8Dz/img03.png              1_1_0\n",
              "4  https://i.postimg.cc/c1TFxqLx/img04.jpg              0_0_1"
            ]
          },
          "execution_count": 21,
          "metadata": {},
          "output_type": "execute_result"
        }
      ],
      "source": [
        "df = pd.read_csv('https://github.com/qksolov/eyewear-counter/raw/refs/heads/main/assets/example_data.csv', encoding='cp1251', sep=';')\n",
        "df.head()"
      ]
    },
    {
      "cell_type": "code",
      "execution_count": 23,
      "metadata": {
        "id": "GRozRYvqneZA"
      },
      "outputs": [],
      "source": [
        "urls = df['image_url'].to_list()"
      ]
    },
    {
      "cell_type": "code",
      "execution_count": 24,
      "metadata": {
        "id": "xWwhDlC3C7kn"
      },
      "outputs": [],
      "source": [
        "model = EyewearCounter(device=device)"
      ]
    },
    {
      "cell_type": "code",
      "execution_count": null,
      "metadata": {
        "collapsed": true,
        "id": "aQK1NjGmKJJQ"
      },
      "outputs": [],
      "source": [
        "!pip install -q batch-face"
      ]
    },
    {
      "cell_type": "code",
      "execution_count": 25,
      "metadata": {
        "id": "igJOnG0pIV3P"
      },
      "outputs": [],
      "source": [
        "# Можно выбрать детектор и классификатор для EyewearCounter\n",
        "detector = RetinaFaceDetector(device=device)    # требует установки batch_face\n",
        "# detector = YoloDetector(device=device) используется в модели по умолчанию\n",
        "\n",
        "# classifier = EyewearClassifier(model_type='mobilenet_v3_large', device=device)\n",
        "classifier = EyewearClassifier(model_type='resnet18', device=device) # используется в модели по умолчанию\n",
        "\n",
        "model = EyewearCounter(\n",
        "    detector=detector,\n",
        "    classifier=classifier,\n",
        "    device=device)"
      ]
    },
    {
      "cell_type": "code",
      "execution_count": 36,
      "metadata": {
        "colab": {
          "base_uri": "https://localhost:8080/"
        },
        "id": "oe3NNSqXDhJ3",
        "outputId": "f1c462a6-5136-4eaa-9053-16de120b37ac"
      },
      "outputs": [
        {
          "name": "stderr",
          "output_type": "stream",
          "text": [
            "Обработка:   5%|▌         | 1/19 [00:00<00:03,  5.73it/s]"
          ]
        },
        {
          "name": "stdout",
          "output_type": "stream",
          "text": [
            "Не удалось загрузить изображение 0 (https://postimg.cc/gallery/1Fjybjh): 'NoneType' object has no attribute 'shape'\n"
          ]
        },
        {
          "name": "stderr",
          "output_type": "stream",
          "text": [
            "Обработка завершена: 100%|██████████| 19/19 [00:02<00:00,  8.29it/s]\n"
          ]
        }
      ],
      "source": [
        "predictions, errors_cnt = model.run(\n",
        "    sources = urls,     # Список URL или путей к изображениям.\n",
        "    image_size=640,     # Размер для ресайза изображений. Default: 640.\n",
        "    image_fit=True,     # Сохранять пропорции с padding. Default: True.\n",
        "    batch_size=4,       # Размер батча. Default: 32.\n",
        "    max_workers=3,      # Количество worker'ов. Default: 3.\n",
        "    max_faces=5,        # Максимальное число лиц обнаруживаемых на изображении. Default: 4.\n",
        "    threshold=0.7       # Порог уверенности детектора в лице. Default: 0.7.\n",
        "    )"
      ]
    },
    {
      "cell_type": "code",
      "execution_count": 37,
      "metadata": {
        "colab": {
          "base_uri": "https://localhost:8080/"
        },
        "id": "ew-TOpQsHS2Y",
        "outputId": "dc21f736-d048-4bb4-ae08-32f30dbe7a84"
      },
      "outputs": [
        {
          "name": "stdout",
          "output_type": "stream",
          "text": [
            "predictions: \n",
            " tensor([[0, 0, 0],\n",
            "        [0, 0, 1],\n",
            "        [0, 2, 0],\n",
            "        [1, 1, 0],\n",
            "        [0, 0, 1],\n",
            "        [1, 2, 0],\n",
            "        [0, 1, 0],\n",
            "        [1, 0, 0],\n",
            "        [1, 0, 0],\n",
            "        [0, 1, 0],\n",
            "        [0, 0, 1],\n",
            "        [0, 1, 1],\n",
            "        [1, 2, 0],\n",
            "        [1, 0, 0],\n",
            "        [0, 0, 0],\n",
            "        [0, 1, 0],\n",
            "        [0, 1, 0],\n",
            "        [0, 1, 0],\n",
            "        [1, 2, 0]], dtype=torch.int32)\n",
            "errors_cnt:  1\n"
          ]
        }
      ],
      "source": [
        "print(\"predictions: \\n\", predictions)\n",
        "print(\"errors_cnt: \", errors_cnt)"
      ]
    },
    {
      "cell_type": "code",
      "execution_count": null,
      "metadata": {
        "colab": {
          "base_uri": "https://localhost:8080/"
        },
        "id": "d-tdnODKF96X",
        "outputId": "4c662d9e-a3dc-4c7a-baa1-d23d45874fca"
      },
      "outputs": [
        {
          "name": "stdout",
          "output_type": "stream",
          "text": [
            "Отчёт сохранён в файл: report.xlsx\n"
          ]
        }
      ],
      "source": [
        "result_df, summary_df, class_isolation_stats_df = generate_report(\n",
        "    predictions.cpu(), errors_cnt,\n",
        "    df_input=df,                # Исходный df\n",
        "    filename='report.xlsx'      # Имя файла для сохранения отчета\n",
        ")"
      ]
    },
    {
      "cell_type": "code",
      "execution_count": 29,
      "metadata": {
        "colab": {
          "base_uri": "https://localhost:8080/",
          "height": 206
        },
        "id": "q4NUyVZOG7X3",
        "outputId": "a313352b-d0b8-4f8c-80f6-c4549a524216"
      },
      "outputs": [
        {
          "data": {
            "text/html": [
              "<div>\n",
              "<style scoped>\n",
              "    .dataframe tbody tr th:only-of-type {\n",
              "        vertical-align: middle;\n",
              "    }\n",
              "\n",
              "    .dataframe tbody tr th {\n",
              "        vertical-align: top;\n",
              "    }\n",
              "\n",
              "    .dataframe thead th {\n",
              "        text-align: right;\n",
              "    }\n",
              "</style>\n",
              "<table border=\"1\" class=\"dataframe\">\n",
              "  <thead>\n",
              "    <tr style=\"text-align: right;\">\n",
              "      <th></th>\n",
              "      <th>image_url</th>\n",
              "      <th>true_prediction</th>\n",
              "      <th>В очках</th>\n",
              "      <th>Без очков</th>\n",
              "      <th>В солнцезащитных очках</th>\n",
              "    </tr>\n",
              "  </thead>\n",
              "  <tbody>\n",
              "    <tr>\n",
              "      <th>0</th>\n",
              "      <td>https://postimg.cc/gallery/1Fjybjh</td>\n",
              "      <td>ссылка на галерею</td>\n",
              "      <td>0</td>\n",
              "      <td>0</td>\n",
              "      <td>0</td>\n",
              "    </tr>\n",
              "    <tr>\n",
              "      <th>1</th>\n",
              "      <td>https://i.postimg.cc/RhCG7dXx/img01.jpg</td>\n",
              "      <td>0_0_1</td>\n",
              "      <td>0</td>\n",
              "      <td>0</td>\n",
              "      <td>1</td>\n",
              "    </tr>\n",
              "    <tr>\n",
              "      <th>2</th>\n",
              "      <td>https://i.postimg.cc/tJrk26MZ/img02.jpg</td>\n",
              "      <td>0_2_0</td>\n",
              "      <td>0</td>\n",
              "      <td>2</td>\n",
              "      <td>0</td>\n",
              "    </tr>\n",
              "    <tr>\n",
              "      <th>3</th>\n",
              "      <td>https://i.postimg.cc/jd5ZC8Dz/img03.png</td>\n",
              "      <td>1_1_0</td>\n",
              "      <td>1</td>\n",
              "      <td>1</td>\n",
              "      <td>0</td>\n",
              "    </tr>\n",
              "    <tr>\n",
              "      <th>4</th>\n",
              "      <td>https://i.postimg.cc/c1TFxqLx/img04.jpg</td>\n",
              "      <td>0_0_1</td>\n",
              "      <td>0</td>\n",
              "      <td>0</td>\n",
              "      <td>1</td>\n",
              "    </tr>\n",
              "  </tbody>\n",
              "</table>\n",
              "</div>"
            ],
            "text/plain": [
              "                                 image_url    true_prediction  В очках  \\\n",
              "0       https://postimg.cc/gallery/1Fjybjh  ссылка на галерею        0   \n",
              "1  https://i.postimg.cc/RhCG7dXx/img01.jpg              0_0_1        0   \n",
              "2  https://i.postimg.cc/tJrk26MZ/img02.jpg              0_2_0        0   \n",
              "3  https://i.postimg.cc/jd5ZC8Dz/img03.png              1_1_0        1   \n",
              "4  https://i.postimg.cc/c1TFxqLx/img04.jpg              0_0_1        0   \n",
              "\n",
              "   Без очков  В солнцезащитных очках  \n",
              "0          0                       0  \n",
              "1          0                       1  \n",
              "2          2                       0  \n",
              "3          1                       0  \n",
              "4          0                       1  "
            ]
          },
          "execution_count": 29,
          "metadata": {},
          "output_type": "execute_result"
        }
      ],
      "source": [
        "result_df.head()"
      ]
    },
    {
      "cell_type": "code",
      "execution_count": 30,
      "metadata": {
        "colab": {
          "base_uri": "https://localhost:8080/",
          "height": 520
        },
        "id": "0xoRNzgLHwHY",
        "outputId": "5220a174-25a9-4a68-bbef-da01ef5a263c"
      },
      "outputs": [
        {
          "data": {
            "text/html": [
              "<div>\n",
              "<style scoped>\n",
              "    .dataframe tbody tr th:only-of-type {\n",
              "        vertical-align: middle;\n",
              "    }\n",
              "\n",
              "    .dataframe tbody tr th {\n",
              "        vertical-align: top;\n",
              "    }\n",
              "\n",
              "    .dataframe thead th {\n",
              "        text-align: right;\n",
              "    }\n",
              "</style>\n",
              "<table border=\"1\" class=\"dataframe\">\n",
              "  <thead>\n",
              "    <tr style=\"text-align: right;\">\n",
              "      <th></th>\n",
              "      <th>Описание</th>\n",
              "      <th>Количество</th>\n",
              "      <th>Процент</th>\n",
              "    </tr>\n",
              "  </thead>\n",
              "  <tbody>\n",
              "    <tr>\n",
              "      <th>0</th>\n",
              "      <td>Обработано изображений</td>\n",
              "      <td>18</td>\n",
              "      <td></td>\n",
              "    </tr>\n",
              "    <tr>\n",
              "      <th>1</th>\n",
              "      <td>Не загружено изображений</td>\n",
              "      <td>1</td>\n",
              "      <td></td>\n",
              "    </tr>\n",
              "    <tr>\n",
              "      <th>2</th>\n",
              "      <td>Обнаружено людей</td>\n",
              "      <td>26</td>\n",
              "      <td></td>\n",
              "    </tr>\n",
              "    <tr>\n",
              "      <th>3</th>\n",
              "      <td></td>\n",
              "      <td></td>\n",
              "      <td></td>\n",
              "    </tr>\n",
              "    <tr>\n",
              "      <th>4</th>\n",
              "      <td>Изображений без людей</td>\n",
              "      <td>1</td>\n",
              "      <td>5.3%</td>\n",
              "    </tr>\n",
              "    <tr>\n",
              "      <th>5</th>\n",
              "      <td>Изображений, где все люди в очках</td>\n",
              "      <td>3</td>\n",
              "      <td>15.8%</td>\n",
              "    </tr>\n",
              "    <tr>\n",
              "      <th>6</th>\n",
              "      <td>Изображений, где есть человек в очках</td>\n",
              "      <td>7</td>\n",
              "      <td>36.8%</td>\n",
              "    </tr>\n",
              "    <tr>\n",
              "      <th>7</th>\n",
              "      <td>Изображений, где все люди без очков</td>\n",
              "      <td>6</td>\n",
              "      <td>31.6%</td>\n",
              "    </tr>\n",
              "    <tr>\n",
              "      <th>8</th>\n",
              "      <td>Изображений, где есть человек без очков</td>\n",
              "      <td>11</td>\n",
              "      <td>57.9%</td>\n",
              "    </tr>\n",
              "    <tr>\n",
              "      <th>9</th>\n",
              "      <td>Изображений, где все люди в солнцезащитных очках</td>\n",
              "      <td>3</td>\n",
              "      <td>15.8%</td>\n",
              "    </tr>\n",
              "    <tr>\n",
              "      <th>10</th>\n",
              "      <td>Изображений, где есть человек в солнцезащитных...</td>\n",
              "      <td>4</td>\n",
              "      <td>21.1%</td>\n",
              "    </tr>\n",
              "    <tr>\n",
              "      <th>11</th>\n",
              "      <td></td>\n",
              "      <td></td>\n",
              "      <td></td>\n",
              "    </tr>\n",
              "    <tr>\n",
              "      <th>12</th>\n",
              "      <td>Всего людей в очках</td>\n",
              "      <td>7</td>\n",
              "      <td>26.9%</td>\n",
              "    </tr>\n",
              "    <tr>\n",
              "      <th>13</th>\n",
              "      <td>Всего людей без очков</td>\n",
              "      <td>15</td>\n",
              "      <td>57.7%</td>\n",
              "    </tr>\n",
              "    <tr>\n",
              "      <th>14</th>\n",
              "      <td>Всего людей в солнцезащитных очках</td>\n",
              "      <td>4</td>\n",
              "      <td>15.4%</td>\n",
              "    </tr>\n",
              "  </tbody>\n",
              "</table>\n",
              "</div>"
            ],
            "text/plain": [
              "                                             Описание Количество Процент\n",
              "0                              Обработано изображений         18        \n",
              "1                            Не загружено изображений          1        \n",
              "2                                    Обнаружено людей         26        \n",
              "3                                                                       \n",
              "4                               Изображений без людей          1    5.3%\n",
              "5                   Изображений, где все люди в очках          3   15.8%\n",
              "6               Изображений, где есть человек в очках          7   36.8%\n",
              "7                 Изображений, где все люди без очков          6   31.6%\n",
              "8             Изображений, где есть человек без очков         11   57.9%\n",
              "9    Изображений, где все люди в солнцезащитных очках          3   15.8%\n",
              "10  Изображений, где есть человек в солнцезащитных...          4   21.1%\n",
              "11                                                                      \n",
              "12                                Всего людей в очках          7   26.9%\n",
              "13                              Всего людей без очков         15   57.7%\n",
              "14                 Всего людей в солнцезащитных очках          4   15.4%"
            ]
          },
          "execution_count": 30,
          "metadata": {},
          "output_type": "execute_result"
        }
      ],
      "source": [
        "summary_df"
      ]
    },
    {
      "cell_type": "code",
      "execution_count": 31,
      "metadata": {
        "colab": {
          "base_uri": "https://localhost:8080/",
          "height": 238
        },
        "id": "UOYMi3GGH0_X",
        "outputId": "ff87cef5-e4a6-4a36-8664-c6c6fee61847"
      },
      "outputs": [
        {
          "data": {
            "text/html": [
              "<div>\n",
              "<style scoped>\n",
              "    .dataframe tbody tr th:only-of-type {\n",
              "        vertical-align: middle;\n",
              "    }\n",
              "\n",
              "    .dataframe tbody tr th {\n",
              "        vertical-align: top;\n",
              "    }\n",
              "\n",
              "    .dataframe thead th {\n",
              "        text-align: right;\n",
              "    }\n",
              "</style>\n",
              "<table border=\"1\" class=\"dataframe\">\n",
              "  <thead>\n",
              "    <tr style=\"text-align: right;\">\n",
              "      <th></th>\n",
              "      <th>Категория</th>\n",
              "      <th>Тип</th>\n",
              "      <th>Количество</th>\n",
              "    </tr>\n",
              "  </thead>\n",
              "  <tbody>\n",
              "    <tr>\n",
              "      <th>0</th>\n",
              "      <td>Очки</td>\n",
              "      <td>Есть другие классы</td>\n",
              "      <td>4</td>\n",
              "    </tr>\n",
              "    <tr>\n",
              "      <th>1</th>\n",
              "      <td>Очки</td>\n",
              "      <td>Без других классов</td>\n",
              "      <td>3</td>\n",
              "    </tr>\n",
              "    <tr>\n",
              "      <th>2</th>\n",
              "      <td>Без</td>\n",
              "      <td>Есть другие классы</td>\n",
              "      <td>5</td>\n",
              "    </tr>\n",
              "    <tr>\n",
              "      <th>3</th>\n",
              "      <td>Без</td>\n",
              "      <td>Без других классов</td>\n",
              "      <td>6</td>\n",
              "    </tr>\n",
              "    <tr>\n",
              "      <th>4</th>\n",
              "      <td>Солнце</td>\n",
              "      <td>Есть другие классы</td>\n",
              "      <td>1</td>\n",
              "    </tr>\n",
              "    <tr>\n",
              "      <th>5</th>\n",
              "      <td>Солнце</td>\n",
              "      <td>Без других классов</td>\n",
              "      <td>3</td>\n",
              "    </tr>\n",
              "  </tbody>\n",
              "</table>\n",
              "</div>"
            ],
            "text/plain": [
              "  Категория                 Тип  Количество\n",
              "0      Очки  Есть другие классы           4\n",
              "1      Очки  Без других классов           3\n",
              "2       Без  Есть другие классы           5\n",
              "3       Без  Без других классов           6\n",
              "4    Солнце  Есть другие классы           1\n",
              "5    Солнце  Без других классов           3"
            ]
          },
          "execution_count": 31,
          "metadata": {},
          "output_type": "execute_result"
        }
      ],
      "source": [
        "class_isolation_stats_df"
      ]
    },
    {
      "cell_type": "code",
      "execution_count": 32,
      "metadata": {
        "colab": {
          "base_uri": "https://localhost:8080/",
          "height": 377
        },
        "id": "FosAPhADOwXw",
        "outputId": "c06f1fef-358d-4dde-9742-0b75c9321931"
      },
      "outputs": [
        {
          "data": {
            "image/png": "[encoded data removed]",
            "text/plain": [
              "<Figure size 594.125x400 with 1 Axes>"
            ]
          },
          "metadata": {},
          "output_type": "display_data"
        }
      ],
      "source": [
        "sns.set_theme(style=\"whitegrid\")\n",
        "g = sns.catplot(\n",
        "    data=class_isolation_stats_df,\n",
        "    kind=\"bar\",\n",
        "    x=\"Категория\", y=\"Количество\", hue=\"Тип\",\n",
        "    errorbar=\"sd\", palette=\"dark\", alpha=.6, height=4\n",
        ")\n",
        "g.despine(left=True)\n",
        "g.set_axis_labels(\"\", \"Количество\")\n",
        "g.legend.set_title(\"\")"
      ]
    }
  ],
  "metadata": {
    "colab": {
      "provenance": []
    },
    "kernelspec": {
      "display_name": "Python 3",
      "name": "python3"
    },
    "language_info": {
      "codemirror_mode": {
        "name": "ipython",
        "version": 3
      },
      "file_extension": ".py",
      "mimetype": "text/x-python",
      "name": "python",
      "nbconvert_exporter": "python",
      "pygments_lexer": "ipython3",
      "version": "3.11.4"
    }
  },
  "nbformat": 4,
  "nbformat_minor": 0
}
